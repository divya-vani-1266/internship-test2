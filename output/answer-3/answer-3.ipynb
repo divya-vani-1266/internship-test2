{
 "cells": [
  {
   "cell_type": "code",
   "execution_count": 7,
   "metadata": {},
   "outputs": [],
   "source": [
    "import pandas as pd\n",
    "import csv\n",
    "col_list=['Team','Yellow Cards','Red Cards']\n",
    "df=pd.read_csv('C:/Users/Divya/Downloads/internship-test2-master/internship-test2-master/input/question-3/main.csv',usecols=col_list)\n",
    "x=df[col_list]\n",
    "x.sort_values(['Yellow Cards'],axis=0,ascending=[False],inplace=True)\n",
    "x.sort_values(['Red Cards'],axis=0,ascending=[False],inplace=True)\n",
    "y=pd.DataFrame(x)\n",
    "y.to_csv('main.csv')"
   ]
  }
 ],
 "metadata": {
  "kernelspec": {
   "display_name": "Python 3",
   "language": "python",
   "name": "python3"
  },
  "language_info": {
   "codemirror_mode": {
    "name": "ipython",
    "version": 3
   },
   "file_extension": ".py",
   "mimetype": "text/x-python",
   "name": "python",
   "nbconvert_exporter": "python",
   "pygments_lexer": "ipython3",
   "version": "3.6.5"
  }
 },
 "nbformat": 4,
 "nbformat_minor": 2
}
